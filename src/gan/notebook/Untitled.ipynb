{
 "cells": [
  {
   "cell_type": "code",
   "execution_count": null,
   "id": "c4a6f06b-5bc9-40c0-9020-a1e2bbf7bee1",
   "metadata": {},
   "outputs": [],
   "source": [
    "!pip install porespy"
   ]
  },
  {
   "cell_type": "code",
   "execution_count": null,
   "id": "23be8e5c-15d5-473f-89af-a61a51f2abf5",
   "metadata": {},
   "outputs": [],
   "source": [
    "import matplotlib.pyplot as plt\n",
    "import numpy as np\n",
    "import porespy as ps"
   ]
  },
  {
   "cell_type": "code",
   "execution_count": null,
   "id": "0b220970-af4b-4f87-be88-c91f724fe2d7",
   "metadata": {},
   "outputs": [],
   "source": []
  }
 ],
 "metadata": {
  "kernelspec": {
   "display_name": "XC236",
   "language": "python",
   "name": "xc236"
  },
  "language_info": {
   "codemirror_mode": {
    "name": "ipython",
    "version": 3
   },
   "file_extension": ".py",
   "mimetype": "text/x-python",
   "name": "python",
   "nbconvert_exporter": "python",
   "pygments_lexer": "ipython3",
   "version": "3.9.19"
  }
 },
 "nbformat": 4,
 "nbformat_minor": 5
}
